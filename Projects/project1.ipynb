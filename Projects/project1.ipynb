{
  "cells": [
    {
      "cell_type": "raw",
      "metadata": {},
      "source": [
        "---\n",
        "title: \"Project 1 - Trends with the Name.\"\n",
        "subtitle: \"Course DS 250\"\n",
        "author: \"Tamanna Sangroula\"\n",
        "format:\n",
        "  html:\n",
        "    self-contained: true\n",
        "    page-layout: full\n",
        "    title-block-banner: true\n",
        "    toc: true\n",
        "    toc-depth: 3\n",
        "    toc-location: body\n",
        "    number-sections: false\n",
        "    html-math-method: katex\n",
        "    code-fold: true\n",
        "    code-summary: \"Show the code\"\n",
        "    code-overflow: wrap\n",
        "    code-copy: hover\n",
        "    code-tools:\n",
        "        source: false\n",
        "        toggle: true\n",
        "        caption: See code\n",
        "execute: \n",
        "  warning: false\n",
        "    \n",
        "---"
      ],
      "id": "fe730778"
    },
    {
      "cell_type": "code",
      "metadata": {},
      "source": [
        "#| label: libraries\n",
        "#| include: false\n",
        "import pandas as pd\n",
        "import numpy as np\n",
        "import plotly.express as px\n",
        "#import altair as alt "
      ],
      "id": "libraries",
      "execution_count": null,
      "outputs": []
    },
    {
      "cell_type": "markdown",
      "metadata": {},
      "source": [
        "## Elevator pitch\n",
        "\n",
        "_From this project, I have visualized and analyzed the uses of names in diffrent year. I have compared the use of diffrent names with the year and tried to see how the trends are with the name. I have used plotly express to plot charts and used different tools with in plotly express such as shape, annotations._\n"
      ],
      "id": "b237ee20"
    },
    {
      "cell_type": "code",
      "metadata": {},
      "source": [
        "#| label: project data\n",
        "#| code-summary: Read and format project data\n",
        "# Include and execute your code here\n",
        "df = pd.read_csv(\"https://github.com/byuidatascience/data4names/raw/master/data-raw/names_year/names_year.csv\")"
      ],
      "id": "project-data",
      "execution_count": null,
      "outputs": []
    },
    {
      "cell_type": "markdown",
      "metadata": {},
      "source": [
        "__Highlight the Questions and Tasks__\n",
        "\n",
        "## QUESTION|TASK 1\n",
        "\n",
        "__How does your name at your birth year compare to its use historically?__\n",
        "\n",
        "_My name, Tamanna, is not in the data so, I use a name with the same meaning as mine, Desire. As I visualized the data, the name 'Desire' is used quite a good number of times. During my birt year, that name was used for total of 64 times. It dropped from 88 times to 64 times. But historically its use statred to grow form the year 1985 and started to drop from year 2010. _\n"
      ],
      "id": "d8faa5bd"
    },
    {
      "cell_type": "code",
      "metadata": {},
      "source": [
        "#| label: Q1\n",
        "#| code-summary: Read and format data\n",
        "# Include and execute your code here\n",
        "# target = 'Tamanna'\n",
        "# count = df[df['name']== target].shape[0]\n",
        "# print(count)\n",
        "my_data = df[df['name']== 'Desire']\n",
        "scatterplot = px.scatter(my_data,x='year',y = 'Total', title = \"Scatterplot of use of name 'Desire'\")\n",
        "#scatterplot.show()\n",
        "\n",
        "my_year = 2003  \n",
        "scatterplot.add_shape(\n",
        "    dict(\n",
        "        type='line',\n",
        "        x0=my_year,\n",
        "        x1=my_year,\n",
        "        y0=0,\n",
        "        y1=len(my_data)*3,\n",
        "        line=dict(color='green'),\n",
        "        name='My Birth Year'\n",
        "    )\n",
        ")\n",
        "scatterplot.add_annotation(\n",
        "    x=my_year,\n",
        "    y=len(my_data)*3,\n",
        "    text = '2003',\n",
        "    showarrow = True\n",
        ")\n",
        "scatterplot.show()"
      ],
      "id": "Q1",
      "execution_count": null,
      "outputs": []
    },
    {
      "cell_type": "markdown",
      "metadata": {},
      "source": [
        "## QUESTION|TASK 2\n",
        "\n",
        "__If you talked to someone named Brittany on the phone, what is your guess of his or her age? What ages would you not guess?__\n",
        "\n",
        "_I think Brittany would be in her mid 30s to early 40s. As the name reached the hightest in 1990 with the total use of 32.562k times. There is lesser chance of her being younger than 34 years old as the uses of that name statred to drop.  _\n"
      ],
      "id": "9fe77987"
    },
    {
      "cell_type": "code",
      "metadata": {},
      "source": [
        "#| label: Q2\n",
        "#| code-summary: Read and format data\n",
        "# Include and execute your code here\n",
        "brittany_data = df[df['name']== 'Brittany']\n",
        "boxplot = px.line(brittany_data, x='year', y=\"Total\", title = 'LineGraph for Brittany')\n",
        "\n",
        "boxplot.show()"
      ],
      "id": "Q2",
      "execution_count": null,
      "outputs": []
    },
    {
      "cell_type": "markdown",
      "metadata": {},
      "source": [
        "## QUESTION|TASK 3\n",
        "\n",
        "__Mary, Martha, Peter, and Paul are all Christian names. From 1920 - 2000, compare the name usage of each of the four names. What trends do you notice?__\n",
        "\n",
        "_As we compare the names; Mary, Martha, Peter, and Paul, we can find which was used the most or the least. From year 1920 to year 2000, 'Mary' was used the most where as 'Peter was least used until 1953 after which 'Marth' was least used. The use of all these name dropped after late 1960s. But the most dropped name was 'Mary'. Now, the uses of all these names are in similiar number, being used less than 10k. _\n"
      ],
      "id": "c9ba594a"
    },
    {
      "cell_type": "code",
      "metadata": {},
      "source": [
        "#| label: Q3\n",
        "#| code-summary: Read and format data\n",
        "# Include and execute your code here\n",
        "names = df.query(\"name in ['Mary', 'Martha', 'Peter', 'Paul'] and year >= 1920 and year <=2000\")\n",
        "christian_names = px.line(names, x='year', y='Total', color='name', title='Christian Names used (1920 - 2000)')\n",
        "christian_names.show()"
      ],
      "id": "Q3",
      "execution_count": null,
      "outputs": []
    },
    {
      "cell_type": "markdown",
      "metadata": {},
      "source": [
        "## QUESTION|TASK 4\n",
        "\n",
        "__Think of a unique name from a famous movie. Plot the usage of that name and see how changes line up with the movie release. Does it look like the movie had an effect on usage?__\n",
        "\n",
        "_I have tried using a bar graph to visualize the use of the name 'Austin'. I took the name from the movie \"Austin Powers\" which was released in 1997. It was a hughly popular movie. Seing the trend with the name, the use of name 'Asutin' was at its peak. Follwing the year, the name rose a little but then it statred to drop. In my opinion, the movie's popularity did not gave a huge impact to the use of the name. _\n"
      ],
      "id": "3411adb6"
    },
    {
      "cell_type": "code",
      "metadata": {},
      "source": [
        "#| label: Q4\n",
        "#| code-summary: Read and format data\n",
        "# Include and execute your code here\n",
        "austin_data = df[df['name']== 'Austin']\n",
        "austin_chart  = px.bar(austin_data,x='year',y = 'Total', title = \"Bar Graph of use of name 'Austin'\")\n",
        "#scatterplot.show()\n",
        "\n",
        "austin_year = 1997  \n",
        "austin_chart.add_shape(\n",
        "    dict(\n",
        "        type='line',\n",
        "        x0=austin_year,\n",
        "        x1=austin_year,\n",
        "        y0=0,\n",
        "        y1=len(austin_data)*215,\n",
        "        line=dict(color='red'),\n",
        "        name='Use of Austin name'\n",
        "    )\n",
        ")\n",
        "austin_chart.add_annotation(\n",
        "    x=austin_year,\n",
        "    y=len(austin_data)*200,\n",
        "    text = 'Austin Powers release year 1997',\n",
        "    showarrow = True\n",
        ")\n",
        "austin_chart.show()"
      ],
      "id": "Q4",
      "execution_count": null,
      "outputs": []
    }
  ],
  "metadata": {
    "kernelspec": {
      "name": "python3",
      "language": "python",
      "display_name": "Python 3 (ipykernel)"
    }
  },
  "nbformat": 4,
  "nbformat_minor": 5
}