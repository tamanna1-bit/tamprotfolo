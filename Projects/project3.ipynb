{
  "cells": [
    {
      "cell_type": "raw",
      "metadata": {},
      "source": [
        "---\n",
        "title: \"Client Report - [Finding relationships in baseball]\"\n",
        "subtitle: \"Course DS 250\"\n",
        "author: \"Tamanna Sangroula\"\n",
        "format:\n",
        "  html:\n",
        "    self-contained: true\n",
        "    page-layout: full\n",
        "    title-block-banner: true\n",
        "    toc: true\n",
        "    toc-depth: 3\n",
        "    toc-location: body\n",
        "    number-sections: false\n",
        "    html-math-method: katex\n",
        "    code-fold: true\n",
        "    code-summary: \"Show the code\"\n",
        "    code-overflow: wrap\n",
        "    code-copy: hover\n",
        "    code-tools:\n",
        "        source: false\n",
        "        toggle: true\n",
        "        caption: See code\n",
        "execute: \n",
        "  warning: false\n",
        "    \n",
        "---"
      ],
      "id": "89f365d7"
    },
    {
      "cell_type": "code",
      "metadata": {},
      "source": [
        "#| label: libraries\n",
        "#| include: false\n",
        "import pandas as pd\n",
        "import numpy as np\n",
        "import plotly.express as px\n",
        "import sqlite3"
      ],
      "id": "libraries",
      "execution_count": null,
      "outputs": []
    },
    {
      "cell_type": "markdown",
      "metadata": {},
      "source": [
        "## Elevator pitch\n",
        "\n",
        "__This project reports the analysis of basball database to know various changes in basball and its players. I have used the data collected from 1800s to the present day. I have tried finding of players who attended BYU-Idaho and their salaries. Similarly, I have looked at the average number of hits per players. To conclude, I looked into two teams- New York Yankees(NYA) and Boston Red Sox(BOS) and comapred the wins of each teams throughout the year.\n"
      ],
      "id": "c1a3b92f"
    },
    {
      "cell_type": "code",
      "metadata": {},
      "source": [
        "# Include and execute your code here\n",
        "sql_file = 'lahmansbaseballdb.sqlite'\n",
        "connect = sqlite3.connect(sql_file)"
      ],
      "id": "ef717e23",
      "execution_count": null,
      "outputs": []
    },
    {
      "cell_type": "markdown",
      "metadata": {},
      "source": [
        "__Highlight the Questions and Tasks__\n",
        "\n",
        "## QUESTION|TASK 1\n",
        "\n",
        "__Write an SQL query to create a new dataframe about baseball players who attended BYU-Idaho. The new table should contain five columns: playerID, schoolID, salary, and the yearID/teamID associated with each salary. Order the table by salary (highest to lowest) and print out the table in your report.__\n",
        "\n",
        "__This code creates a table of baseball players who attended BYU-Idaho along with their salary, year and team. The highest paid player goes by 'lindsman01'. The player had a salary of $4 million in 2014 who plays for CHA team. Similarly, player 'stephga01' earned around $1.03 million in 2001. The data shows change on their salaries are the results of change in team and year as well. \n"
      ],
      "id": "bf4c3538"
    },
    {
      "cell_type": "code",
      "metadata": {},
      "source": [
        "#| label: Q1\n",
        "#| code-summary: Read and format data\n",
        "# Include and execute your code here\n",
        "my_sql = \"\"\" SELECT DISTINCT bat.playerID,\n",
        "            col.schoolID,\n",
        "            sal.salary,\n",
        "            sal.yearID,\n",
        "            sal.teamID\n",
        "            FROM batting AS bat\n",
        "            JOIN salaries AS sal\n",
        "            ON sal.playerID = bat.playerID\n",
        "            JOIN collegeplaying AS col \n",
        "            ON bat.playerID = col.playerID\n",
        "            WHERE col.schoolID = 'idbyuid'\n",
        "            ORDER BY sal.salary DESC; \"\"\"  \n",
        "\n",
        "mydata = pd.read_sql_query(my_sql, connect)\n",
        "mydata"
      ],
      "id": "Q1",
      "execution_count": null,
      "outputs": []
    },
    {
      "cell_type": "markdown",
      "metadata": {},
      "source": [
        "## QUESTION|TASK 2\n",
        "\n",
        "__This three-part question requires you to calculate batting average (number of hits divided by the number of at-bats)__\n",
        "\n",
        "__Write an SQL query that provides playerID, yearID, and batting average for players with at least 1 at bat that year. Sort the table from highest batting average to lowest, and then by playerid alphabetically. Show the top 5 results in your report.__\n",
        "\n",
        "_ This is the first part of the question. It shows the players with batting averahe of 1.0. The findings tells that the player hits the ball every time they were to bat. We limited the data to 5 players only._\n"
      ],
      "id": "a461a1ed"
    },
    {
      "cell_type": "code",
      "metadata": {},
      "source": [
        "#| label: Q2\n",
        "#| code-summary: Read and format data\n",
        "# Include and execute your code here\n",
        "my_sql = \"\"\" SELECT bat.playerID, \n",
        "                    bat.yearID,\n",
        "                    CAST(SUM(bat.H) as FLOAT )/ CAST(SUM(bat.AB) as FLOAT) AS AVG_batting\n",
        "                    FROM batting AS bat\n",
        "                    GROUP BY bat.playerID, bat.yearID\n",
        "                    HAVING SUM(bat.AB) >= 1\n",
        "                    ORDER BY AVG_batting DESC, bat.playerID\n",
        "                    LIMIT 5; \"\"\"\n",
        "\n",
        "\n",
        "mydata = pd.read_sql_query(my_sql, connect)\n",
        "mydata"
      ],
      "id": "Q2",
      "execution_count": null,
      "outputs": []
    },
    {
      "cell_type": "markdown",
      "metadata": {},
      "source": [
        "__Use the same query as above, but only include players with at least 10 at bats that year. Print the top 5 results.__\n",
        "\n",
        "_In the second part of the question, we looked into palyers who had at least 10 at-bats. We found that in 1974, player 'nymanny01' has an average of 0.642857, which is more than half. He seems to hit 6 out of 10 balls. In the top 5 players, everyone was able to hit more than 5  out of 10._\n"
      ],
      "id": "22ec088a"
    },
    {
      "cell_type": "code",
      "metadata": {},
      "source": [
        "my_sql = \"\"\" SELECT bat.playerID, \n",
        "                    bat.yearID,\n",
        "                    CAST(SUM(bat.H) as FLOAT )/ CAST(SUM(bat.AB) as FLOAT) AS AVG_batting\n",
        "                    FROM batting AS bat\n",
        "                    GROUP BY bat.playerID, bat.yearID\n",
        "                    HAVING SUM(bat.AB) >= 10\n",
        "                    ORDER BY AVG_batting DESC, bat.playerID\n",
        "                    LIMIT 5; \"\"\"\n",
        "\n",
        "\n",
        "mydata = pd.read_sql_query(my_sql, connect)\n",
        "mydata"
      ],
      "id": "c85c43fc",
      "execution_count": null,
      "outputs": []
    },
    {
      "cell_type": "markdown",
      "metadata": {},
      "source": [
        "__Now calculate the batting average for players over their entire careers (all years combined). Only include players with at least 100 at bats, and print the top 5 results.__\n",
        "\n",
        "_This is the final part of the qyestion. In this part, I calculated the batting average for players over their entire careers who had at least 100 at bats. Overall, all player 'cobbty01' seems to be the top batsman in baseball with an average of '0.366299' batting. However, all top 5 players are very close. All these players were skilled in batting._ \n"
      ],
      "id": "0a5d84b4"
    },
    {
      "cell_type": "code",
      "metadata": {},
      "source": [
        "my_sql = \"\"\" SELECT bat.playerID, \n",
        "                    CAST(SUM(bat.H) as FLOAT )/ CAST(SUM(bat.AB) as FLOAT) AS AVG_batting\n",
        "                    FROM batting AS bat\n",
        "                    GROUP BY bat.playerID\n",
        "                    HAVING SUM(bat.AB) >= 100\n",
        "                    ORDER BY AVG_batting DESC, bat.playerID\n",
        "                    LIMIT 5; \"\"\"\n",
        "\n",
        "mydata = pd.read_sql_query(my_sql, connect)\n",
        "mydata"
      ],
      "id": "d4eb0a8f",
      "execution_count": null,
      "outputs": []
    },
    {
      "cell_type": "markdown",
      "metadata": {},
      "source": [
        "_Overall, the findings was done to see the batting skills of the players. This result shows us the capability of the players and what year was their best perforamnces._\n",
        "\n",
        "## QUESTION|TASK 3\n",
        "\n",
        "__Pick any two baseball teams and compare them using a metric of your choice (average salary, home runs, number of wins, etc). Write an SQL query to get the data you need, then make a graph using Plotly Express to visualize the comparison. What do you learn?__\n",
        "\n",
        "_This line graph shows the wins of two teams- New York Yankees(NYA) and Boston Red Sox(BOS) in each year. It looks like both the teams are neck-to-neck with each other. However, around 1920 - 1939 and around 1951 - 1963, NYA had more wins than BOS. Both the tems have similar number of wins other years. NYA had an average of 114 wins in 1998. The teams are competitive but, NYA is constant with their average wins where as there are many ups and downs for BOS in their average wins. The data helps us to find their overall performances throughout the years. _\n"
      ],
      "id": "f595d2d9"
    },
    {
      "cell_type": "code",
      "metadata": {},
      "source": [
        "my_sql = \"\"\" SELECT teamID, yearID AS year, AVG(W) AS AVG_wins\n",
        "              FROM teams\n",
        "              WHERE teamID IN ('NYA', 'BOS')\n",
        "              GROUP BY teamID, year; \"\"\"\n",
        "\n",
        "mydata = pd.read_sql_query(my_sql, connect)\n",
        "mydata\n",
        "\n",
        "chart = px.line(\n",
        "    mydata,\n",
        "    x='year',\n",
        "    y='AVG_wins',\n",
        "    color='teamID',\n",
        "    markers=True,\n",
        "    labels={'AVG_wins': 'Average Wins', 'year': 'Year'},\n",
        "    title='Average Wins for NYA and BOS Over the Years')\n",
        "\n",
        "chart.show()"
      ],
      "id": "024e5c6a",
      "execution_count": null,
      "outputs": []
    }
  ],
  "metadata": {
    "kernelspec": {
      "name": "python3",
      "language": "python",
      "display_name": "Python 3 (ipykernel)"
    }
  },
  "nbformat": 4,
  "nbformat_minor": 5
}