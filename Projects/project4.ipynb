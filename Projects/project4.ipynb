{
  "cells": [
    {
      "cell_type": "raw",
      "metadata": {},
      "source": [
        "---\n",
        "title: \"Client Report - [Insert Project Title]\"\n",
        "subtitle: \"Course DS 250\"\n",
        "author: \"[STUDENT NAME]\"\n",
        "format:\n",
        "  html:\n",
        "    self-contained: true\n",
        "    page-layout: full\n",
        "    title-block-banner: true\n",
        "    toc: true\n",
        "    toc-depth: 3\n",
        "    toc-location: body\n",
        "    number-sections: false\n",
        "    html-math-method: katex\n",
        "    code-fold: true\n",
        "    code-summary: \"Show the code\"\n",
        "    code-overflow: wrap\n",
        "    code-copy: hover\n",
        "    code-tools:\n",
        "        source: false\n",
        "        toggle: true\n",
        "        caption: See code\n",
        "execute: \n",
        "  warning: false\n",
        "    \n",
        "---"
      ],
      "id": "234cbec5"
    },
    {
      "cell_type": "markdown",
      "metadata": {},
      "source": [
        "### Uncomment the entire section to use this template\n",
        "\n",
        "<!-- "
      ],
      "id": "3c1385ac"
    },
    {
      "cell_type": "code",
      "metadata": {},
      "source": [
        "#| label: libraries\n",
        "#| include: false\n",
        "import pandas as pd\n",
        "import numpy as np\n",
        "import plotly.express as px"
      ],
      "id": "libraries",
      "execution_count": null,
      "outputs": []
    },
    {
      "cell_type": "markdown",
      "metadata": {},
      "source": [
        "## Elevator pitch\n",
        "\n",
        "_paste your elevator pitch here_\n",
        "_A SHORT (4-5 SENTENCES) PARAGRAPH THAT `DESCRIBES KEY INSIGHTS` TAKEN FROM METRICS IN THE PROJECT RESULTS THINK TOP OR MOST IMPORTANT RESULTS._\n"
      ],
      "id": "d8a870e3"
    },
    {
      "cell_type": "code",
      "metadata": {},
      "source": [
        "#| label: project data\n",
        "#| code-summary: Read and format project data\n",
        "# Include and execute your code here\n",
        "df = pd.read_csv(\"https://github.com/byuidatascience/data4names/raw/master/data-raw/names_year/names_year.csv\")"
      ],
      "id": "project-data",
      "execution_count": null,
      "outputs": []
    },
    {
      "cell_type": "markdown",
      "metadata": {},
      "source": [
        "__Highlight the Questions and Tasks__\n",
        "\n",
        "## QUESTION|TASK 1\n",
        "\n",
        "__COPY PASTE QUESTION|TASK 1 FROM THE PROJECT HERE__\n",
        "\n",
        "_type your results and analysis here_\n"
      ],
      "id": "11eb8844"
    },
    {
      "cell_type": "code",
      "metadata": {},
      "source": [
        "#| label: Q1\n",
        "#| code-summary: Read and format data\n",
        "# Include and execute your code here\n"
      ],
      "id": "Q1",
      "execution_count": null,
      "outputs": []
    },
    {
      "cell_type": "markdown",
      "metadata": {},
      "source": [
        "_include figures in chunks and discuss your findings in the figure._\n"
      ],
      "id": "db7f9eb7"
    },
    {
      "cell_type": "code",
      "metadata": {},
      "source": [
        "#| label: Q1 chart\n",
        "#| code-summary: plot example\n",
        "#| fig-cap: My useless chart\n",
        "#| fig-align: center\n",
        "# Include and execute your code here\n",
        "chart = px.bar(df.head(200),\n",
        "    x=\"name\", \n",
        "    y=\"AK\"\n",
        ")\n",
        "chart.show()"
      ],
      "id": "Q1-chart",
      "execution_count": null,
      "outputs": []
    },
    {
      "cell_type": "code",
      "metadata": {},
      "source": [
        "#| label: Q1 table\n",
        "#| code-summary: table example\n",
        "#| tbl-cap: Not much of a table\n",
        "#| tbl-cap-location: top\n",
        "# Include and execute your code here\n",
        "mydat = df.head(1000)\\\n",
        "    .groupby('year')\\\n",
        "    .sum()\\\n",
        "    .reset_index()\\\n",
        "    .tail(10)\\\n",
        "    .filter([\"year\", \"AK\",\"AR\"])\n",
        "\n",
        "display(mydat)"
      ],
      "id": "Q1-table",
      "execution_count": null,
      "outputs": []
    },
    {
      "cell_type": "markdown",
      "metadata": {},
      "source": [
        "## QUESTION|TASK 2\n",
        "\n",
        "__COPY PASTE QUESTION|TASK 2 FROM THE PROJECT HERE__\n",
        "\n",
        "_type your results and analysis here_\n"
      ],
      "id": "4f4206e1"
    },
    {
      "cell_type": "code",
      "metadata": {},
      "source": [
        "#| label: Q2\n",
        "#| code-summary: Read and format data\n",
        "# Include and execute your code here\n"
      ],
      "id": "Q2",
      "execution_count": null,
      "outputs": []
    },
    {
      "cell_type": "markdown",
      "metadata": {},
      "source": [
        "_include figures in chunks and discuss your findings in the figure._\n"
      ],
      "id": "d4da620a"
    },
    {
      "cell_type": "code",
      "metadata": {},
      "source": [
        "#| label: Q2 chart\n",
        "#| code-summary: plot example\n",
        "#| fig-cap: My useless chart\n",
        "#| fig-align: center\n",
        "# Include and execute your code here\n",
        "chart = px.bar(df.head(200),\n",
        "    x=\"name\", \n",
        "    y=\"AK\"\n",
        ")\n",
        "chart.show()"
      ],
      "id": "Q2-chart",
      "execution_count": null,
      "outputs": []
    },
    {
      "cell_type": "code",
      "metadata": {},
      "source": [
        "#| label: Q2 table\n",
        "#| code-summary: table example\n",
        "#| tbl-cap: Not much of a table\n",
        "#| tbl-cap-location: top\n",
        "# Include and execute your code here\n",
        "mydat = df.head(1000)\\\n",
        "    .groupby('year')\\\n",
        "    .sum()\\\n",
        "    .reset_index()\\\n",
        "    .tail(10)\\\n",
        "    .filter([\"year\", \"AK\",\"AR\"])\n",
        "\n",
        "display(mydat)"
      ],
      "id": "Q2-table",
      "execution_count": null,
      "outputs": []
    },
    {
      "cell_type": "markdown",
      "metadata": {},
      "source": [
        "## QUESTION|TASK 3\n",
        "\n",
        "__COPY PASTE QUESTION|TASK 3 FROM THE PROJECT HERE__\n",
        "\n",
        "_type your results and analysis here_\n"
      ],
      "id": "489dff81"
    },
    {
      "cell_type": "code",
      "metadata": {},
      "source": [
        "#| label: Q3\n",
        "#| code-summary: Read and format data\n",
        "# Include and execute your code here\n"
      ],
      "id": "Q3",
      "execution_count": null,
      "outputs": []
    },
    {
      "cell_type": "markdown",
      "metadata": {},
      "source": [
        "_include figures in chunks and discuss your findings in the figure._\n"
      ],
      "id": "8b4b2d8f"
    },
    {
      "cell_type": "code",
      "metadata": {},
      "source": [
        "#| label: Q3 chart\n",
        "#| code-summary: plot example\n",
        "#| fig-cap: My useless chart\n",
        "#| fig-align: center\n",
        "# Include and execute your code here\n",
        "chart = px.bar(df.head(200),\n",
        "    x=\"name\", \n",
        "    y=\"AK\"\n",
        ")\n",
        "chart.show()"
      ],
      "id": "Q3-chart",
      "execution_count": null,
      "outputs": []
    },
    {
      "cell_type": "markdown",
      "metadata": {},
      "source": [
        "#| label: Q3 table\n",
        "#| code-summary: table example\n",
        "#| tbl-cap: \"Not much of a table\"\n",
        "#| tbl-cap-location: top\n",
        "# Include and execute your code here\n",
        "mydat = df.head(1000)\\\n",
        "    .groupby('year')\\\n",
        "    .sum()\\\n",
        "    .reset_index()\\\n",
        "    .tail(10)\\\n",
        "    .filter([\"year\", \"AK\",\"AR\"])\n",
        "\n",
        "display(mydat)\n",
        "\n",
        "``` -->"
      ],
      "id": "8d6b57ce"
    }
  ],
  "metadata": {
    "kernelspec": {
      "name": "python3",
      "language": "python",
      "display_name": "Python 3 (ipykernel)"
    }
  },
  "nbformat": 4,
  "nbformat_minor": 5
}